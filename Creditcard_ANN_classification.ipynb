{
  "cells": [
    {
      "cell_type": "markdown",
      "metadata": {
        "id": "view-in-github",
        "colab_type": "text"
      },
      "source": [
        "<a href=\"https://colab.research.google.com/github/dineshreddy221/Deep-Learning/blob/main/Creditcard_ANN_classification.ipynb\" target=\"_parent\"><img src=\"https://colab.research.google.com/assets/colab-badge.svg\" alt=\"Open In Colab\"/></a>"
      ]
    },
    {
      "cell_type": "markdown",
      "source": [
        "$$ CreditCard\\ Prediction $$"
      ],
      "metadata": {
        "id": "oRYYMxzxkwec"
      },
      "id": "oRYYMxzxkwec"
    },
    {
      "cell_type": "code",
      "execution_count": 1,
      "id": "693a059e",
      "metadata": {
        "id": "693a059e"
      },
      "outputs": [],
      "source": [
        "import warnings\n",
        "warnings.filterwarnings(\"ignore\")"
      ]
    },
    {
      "cell_type": "code",
      "source": [
        "from google.colab import drive\n",
        "drive.mount('/content/drive')"
      ],
      "metadata": {
        "colab": {
          "base_uri": "https://localhost:8080/"
        },
        "id": "d_66e929XzEk",
        "outputId": "c3e547e3-4be4-41ad-b7ea-27b7326bd113"
      },
      "id": "d_66e929XzEk",
      "execution_count": 2,
      "outputs": [
        {
          "output_type": "stream",
          "name": "stdout",
          "text": [
            "Mounted at /content/drive\n"
          ]
        }
      ]
    },
    {
      "cell_type": "code",
      "execution_count": 3,
      "id": "8d148e0c",
      "metadata": {
        "id": "8d148e0c"
      },
      "outputs": [],
      "source": [
        "# ! pip install tensorflow"
      ]
    },
    {
      "cell_type": "code",
      "execution_count": 4,
      "id": "69d98a47",
      "metadata": {
        "id": "69d98a47"
      },
      "outputs": [],
      "source": [
        "# ! pip install keras"
      ]
    },
    {
      "cell_type": "code",
      "execution_count": 5,
      "id": "b5a417a9",
      "metadata": {
        "id": "b5a417a9"
      },
      "outputs": [],
      "source": [
        "import pandas as pd\n",
        "import numpy as np\n",
        "import matplotlib.pyplot as plt\n",
        "import seaborn as sns\n",
        "import tensorflow as tf"
      ]
    },
    {
      "cell_type": "markdown",
      "id": "87910be4",
      "metadata": {
        "id": "87910be4"
      },
      "source": [
        "### Steps to Perform the Model:\n",
        "<ol>1.Load the dataset</ol> \n",
        "<ol>2.Preprocessing.</ol>\n",
        "    <li>Print the first 5 rows of the dataset</li>\n",
        "    <li>Check the features in the dataset</li>\n",
        "    <li>Check the missing values </li>\n",
        "    <li>Check the numerical features in the dataset </li>\n",
        "    <li>Check the distribution of categorical columns </li>\n",
        "<ol>3.Seperate features and Labels</ol>\n",
        "<ol>4.Split the dataset to train and test</ol> \n",
        "<ol>5.Do normalisation if required</ol> \n",
        "<ol>6.Model Building (ANN) </ol>\n",
        "<ol>7.Compile the model</ol>\n",
        "<ol>8.Make predictions</ol> \n",
        "<ol>9.Find Accuracy score</ol>\n",
        "<ol>10. Build the ANN models with increasing 2 dense layers to each model and compare the accuracy scores (Minimum 5 models Required)</ol>\n",
        "<ol>11. Visualize train and validation Accuracy and Losses for every model.</ol>\n"
      ]
    },
    {
      "cell_type": "code",
      "execution_count": 6,
      "id": "c66fb572",
      "metadata": {
        "colab": {
          "base_uri": "https://localhost:8080/",
          "height": 300
        },
        "id": "c66fb572",
        "outputId": "ff23cc3a-ca93-4eaf-b8ae-8b40738fdacb"
      },
      "outputs": [
        {
          "output_type": "execute_result",
          "data": {
            "text/plain": [
              "   Time        V1        V2        V3        V4        V5        V6        V7  \\\n",
              "0   0.0 -1.359807 -0.072781  2.536347  1.378155 -0.338321  0.462388  0.239599   \n",
              "1   0.0  1.191857  0.266151  0.166480  0.448154  0.060018 -0.082361 -0.078803   \n",
              "2   1.0 -1.358354 -1.340163  1.773209  0.379780 -0.503198  1.800499  0.791461   \n",
              "3   1.0 -0.966272 -0.185226  1.792993 -0.863291 -0.010309  1.247203  0.237609   \n",
              "4   2.0 -1.158233  0.877737  1.548718  0.403034 -0.407193  0.095921  0.592941   \n",
              "\n",
              "         V8        V9  ...       V21       V22       V23       V24       V25  \\\n",
              "0  0.098698  0.363787  ... -0.018307  0.277838 -0.110474  0.066928  0.128539   \n",
              "1  0.085102 -0.255425  ... -0.225775 -0.638672  0.101288 -0.339846  0.167170   \n",
              "2  0.247676 -1.514654  ...  0.247998  0.771679  0.909412 -0.689281 -0.327642   \n",
              "3  0.377436 -1.387024  ... -0.108300  0.005274 -0.190321 -1.175575  0.647376   \n",
              "4 -0.270533  0.817739  ... -0.009431  0.798278 -0.137458  0.141267 -0.206010   \n",
              "\n",
              "        V26       V27       V28  Amount  Class  \n",
              "0 -0.189115  0.133558 -0.021053  149.62      0  \n",
              "1  0.125895 -0.008983  0.014724    2.69      0  \n",
              "2 -0.139097 -0.055353 -0.059752  378.66      0  \n",
              "3 -0.221929  0.062723  0.061458  123.50      0  \n",
              "4  0.502292  0.219422  0.215153   69.99      0  \n",
              "\n",
              "[5 rows x 31 columns]"
            ],
            "text/html": [
              "\n",
              "  <div id=\"df-4dd32bb3-060f-49e3-b3f2-5b23d14e052b\">\n",
              "    <div class=\"colab-df-container\">\n",
              "      <div>\n",
              "<style scoped>\n",
              "    .dataframe tbody tr th:only-of-type {\n",
              "        vertical-align: middle;\n",
              "    }\n",
              "\n",
              "    .dataframe tbody tr th {\n",
              "        vertical-align: top;\n",
              "    }\n",
              "\n",
              "    .dataframe thead th {\n",
              "        text-align: right;\n",
              "    }\n",
              "</style>\n",
              "<table border=\"1\" class=\"dataframe\">\n",
              "  <thead>\n",
              "    <tr style=\"text-align: right;\">\n",
              "      <th></th>\n",
              "      <th>Time</th>\n",
              "      <th>V1</th>\n",
              "      <th>V2</th>\n",
              "      <th>V3</th>\n",
              "      <th>V4</th>\n",
              "      <th>V5</th>\n",
              "      <th>V6</th>\n",
              "      <th>V7</th>\n",
              "      <th>V8</th>\n",
              "      <th>V9</th>\n",
              "      <th>...</th>\n",
              "      <th>V21</th>\n",
              "      <th>V22</th>\n",
              "      <th>V23</th>\n",
              "      <th>V24</th>\n",
              "      <th>V25</th>\n",
              "      <th>V26</th>\n",
              "      <th>V27</th>\n",
              "      <th>V28</th>\n",
              "      <th>Amount</th>\n",
              "      <th>Class</th>\n",
              "    </tr>\n",
              "  </thead>\n",
              "  <tbody>\n",
              "    <tr>\n",
              "      <th>0</th>\n",
              "      <td>0.0</td>\n",
              "      <td>-1.359807</td>\n",
              "      <td>-0.072781</td>\n",
              "      <td>2.536347</td>\n",
              "      <td>1.378155</td>\n",
              "      <td>-0.338321</td>\n",
              "      <td>0.462388</td>\n",
              "      <td>0.239599</td>\n",
              "      <td>0.098698</td>\n",
              "      <td>0.363787</td>\n",
              "      <td>...</td>\n",
              "      <td>-0.018307</td>\n",
              "      <td>0.277838</td>\n",
              "      <td>-0.110474</td>\n",
              "      <td>0.066928</td>\n",
              "      <td>0.128539</td>\n",
              "      <td>-0.189115</td>\n",
              "      <td>0.133558</td>\n",
              "      <td>-0.021053</td>\n",
              "      <td>149.62</td>\n",
              "      <td>0</td>\n",
              "    </tr>\n",
              "    <tr>\n",
              "      <th>1</th>\n",
              "      <td>0.0</td>\n",
              "      <td>1.191857</td>\n",
              "      <td>0.266151</td>\n",
              "      <td>0.166480</td>\n",
              "      <td>0.448154</td>\n",
              "      <td>0.060018</td>\n",
              "      <td>-0.082361</td>\n",
              "      <td>-0.078803</td>\n",
              "      <td>0.085102</td>\n",
              "      <td>-0.255425</td>\n",
              "      <td>...</td>\n",
              "      <td>-0.225775</td>\n",
              "      <td>-0.638672</td>\n",
              "      <td>0.101288</td>\n",
              "      <td>-0.339846</td>\n",
              "      <td>0.167170</td>\n",
              "      <td>0.125895</td>\n",
              "      <td>-0.008983</td>\n",
              "      <td>0.014724</td>\n",
              "      <td>2.69</td>\n",
              "      <td>0</td>\n",
              "    </tr>\n",
              "    <tr>\n",
              "      <th>2</th>\n",
              "      <td>1.0</td>\n",
              "      <td>-1.358354</td>\n",
              "      <td>-1.340163</td>\n",
              "      <td>1.773209</td>\n",
              "      <td>0.379780</td>\n",
              "      <td>-0.503198</td>\n",
              "      <td>1.800499</td>\n",
              "      <td>0.791461</td>\n",
              "      <td>0.247676</td>\n",
              "      <td>-1.514654</td>\n",
              "      <td>...</td>\n",
              "      <td>0.247998</td>\n",
              "      <td>0.771679</td>\n",
              "      <td>0.909412</td>\n",
              "      <td>-0.689281</td>\n",
              "      <td>-0.327642</td>\n",
              "      <td>-0.139097</td>\n",
              "      <td>-0.055353</td>\n",
              "      <td>-0.059752</td>\n",
              "      <td>378.66</td>\n",
              "      <td>0</td>\n",
              "    </tr>\n",
              "    <tr>\n",
              "      <th>3</th>\n",
              "      <td>1.0</td>\n",
              "      <td>-0.966272</td>\n",
              "      <td>-0.185226</td>\n",
              "      <td>1.792993</td>\n",
              "      <td>-0.863291</td>\n",
              "      <td>-0.010309</td>\n",
              "      <td>1.247203</td>\n",
              "      <td>0.237609</td>\n",
              "      <td>0.377436</td>\n",
              "      <td>-1.387024</td>\n",
              "      <td>...</td>\n",
              "      <td>-0.108300</td>\n",
              "      <td>0.005274</td>\n",
              "      <td>-0.190321</td>\n",
              "      <td>-1.175575</td>\n",
              "      <td>0.647376</td>\n",
              "      <td>-0.221929</td>\n",
              "      <td>0.062723</td>\n",
              "      <td>0.061458</td>\n",
              "      <td>123.50</td>\n",
              "      <td>0</td>\n",
              "    </tr>\n",
              "    <tr>\n",
              "      <th>4</th>\n",
              "      <td>2.0</td>\n",
              "      <td>-1.158233</td>\n",
              "      <td>0.877737</td>\n",
              "      <td>1.548718</td>\n",
              "      <td>0.403034</td>\n",
              "      <td>-0.407193</td>\n",
              "      <td>0.095921</td>\n",
              "      <td>0.592941</td>\n",
              "      <td>-0.270533</td>\n",
              "      <td>0.817739</td>\n",
              "      <td>...</td>\n",
              "      <td>-0.009431</td>\n",
              "      <td>0.798278</td>\n",
              "      <td>-0.137458</td>\n",
              "      <td>0.141267</td>\n",
              "      <td>-0.206010</td>\n",
              "      <td>0.502292</td>\n",
              "      <td>0.219422</td>\n",
              "      <td>0.215153</td>\n",
              "      <td>69.99</td>\n",
              "      <td>0</td>\n",
              "    </tr>\n",
              "  </tbody>\n",
              "</table>\n",
              "<p>5 rows × 31 columns</p>\n",
              "</div>\n",
              "      <button class=\"colab-df-convert\" onclick=\"convertToInteractive('df-4dd32bb3-060f-49e3-b3f2-5b23d14e052b')\"\n",
              "              title=\"Convert this dataframe to an interactive table.\"\n",
              "              style=\"display:none;\">\n",
              "        \n",
              "  <svg xmlns=\"http://www.w3.org/2000/svg\" height=\"24px\"viewBox=\"0 0 24 24\"\n",
              "       width=\"24px\">\n",
              "    <path d=\"M0 0h24v24H0V0z\" fill=\"none\"/>\n",
              "    <path d=\"M18.56 5.44l.94 2.06.94-2.06 2.06-.94-2.06-.94-.94-2.06-.94 2.06-2.06.94zm-11 1L8.5 8.5l.94-2.06 2.06-.94-2.06-.94L8.5 2.5l-.94 2.06-2.06.94zm10 10l.94 2.06.94-2.06 2.06-.94-2.06-.94-.94-2.06-.94 2.06-2.06.94z\"/><path d=\"M17.41 7.96l-1.37-1.37c-.4-.4-.92-.59-1.43-.59-.52 0-1.04.2-1.43.59L10.3 9.45l-7.72 7.72c-.78.78-.78 2.05 0 2.83L4 21.41c.39.39.9.59 1.41.59.51 0 1.02-.2 1.41-.59l7.78-7.78 2.81-2.81c.8-.78.8-2.07 0-2.86zM5.41 20L4 18.59l7.72-7.72 1.47 1.35L5.41 20z\"/>\n",
              "  </svg>\n",
              "      </button>\n",
              "      \n",
              "  <style>\n",
              "    .colab-df-container {\n",
              "      display:flex;\n",
              "      flex-wrap:wrap;\n",
              "      gap: 12px;\n",
              "    }\n",
              "\n",
              "    .colab-df-convert {\n",
              "      background-color: #E8F0FE;\n",
              "      border: none;\n",
              "      border-radius: 50%;\n",
              "      cursor: pointer;\n",
              "      display: none;\n",
              "      fill: #1967D2;\n",
              "      height: 32px;\n",
              "      padding: 0 0 0 0;\n",
              "      width: 32px;\n",
              "    }\n",
              "\n",
              "    .colab-df-convert:hover {\n",
              "      background-color: #E2EBFA;\n",
              "      box-shadow: 0px 1px 2px rgba(60, 64, 67, 0.3), 0px 1px 3px 1px rgba(60, 64, 67, 0.15);\n",
              "      fill: #174EA6;\n",
              "    }\n",
              "\n",
              "    [theme=dark] .colab-df-convert {\n",
              "      background-color: #3B4455;\n",
              "      fill: #D2E3FC;\n",
              "    }\n",
              "\n",
              "    [theme=dark] .colab-df-convert:hover {\n",
              "      background-color: #434B5C;\n",
              "      box-shadow: 0px 1px 3px 1px rgba(0, 0, 0, 0.15);\n",
              "      filter: drop-shadow(0px 1px 2px rgba(0, 0, 0, 0.3));\n",
              "      fill: #FFFFFF;\n",
              "    }\n",
              "  </style>\n",
              "\n",
              "      <script>\n",
              "        const buttonEl =\n",
              "          document.querySelector('#df-4dd32bb3-060f-49e3-b3f2-5b23d14e052b button.colab-df-convert');\n",
              "        buttonEl.style.display =\n",
              "          google.colab.kernel.accessAllowed ? 'block' : 'none';\n",
              "\n",
              "        async function convertToInteractive(key) {\n",
              "          const element = document.querySelector('#df-4dd32bb3-060f-49e3-b3f2-5b23d14e052b');\n",
              "          const dataTable =\n",
              "            await google.colab.kernel.invokeFunction('convertToInteractive',\n",
              "                                                     [key], {});\n",
              "          if (!dataTable) return;\n",
              "\n",
              "          const docLinkHtml = 'Like what you see? Visit the ' +\n",
              "            '<a target=\"_blank\" href=https://colab.research.google.com/notebooks/data_table.ipynb>data table notebook</a>'\n",
              "            + ' to learn more about interactive tables.';\n",
              "          element.innerHTML = '';\n",
              "          dataTable['output_type'] = 'display_data';\n",
              "          await google.colab.output.renderOutput(dataTable, element);\n",
              "          const docLink = document.createElement('div');\n",
              "          docLink.innerHTML = docLinkHtml;\n",
              "          element.appendChild(docLink);\n",
              "        }\n",
              "      </script>\n",
              "    </div>\n",
              "  </div>\n",
              "  "
            ]
          },
          "metadata": {},
          "execution_count": 6
        }
      ],
      "source": [
        "df = pd.read_csv(\"/content/drive/MyDrive/Datasets/creditcard.csv\")\n",
        "df.head()"
      ]
    },
    {
      "cell_type": "code",
      "execution_count": 7,
      "id": "6fa3d75b",
      "metadata": {
        "id": "6fa3d75b",
        "outputId": "acce7f4f-8a98-45a1-f2d7-441249f72e6c",
        "colab": {
          "base_uri": "https://localhost:8080/"
        }
      },
      "outputs": [
        {
          "output_type": "stream",
          "name": "stdout",
          "text": [
            "<class 'pandas.core.frame.DataFrame'>\n",
            "RangeIndex: 284807 entries, 0 to 284806\n",
            "Data columns (total 31 columns):\n",
            " #   Column  Non-Null Count   Dtype  \n",
            "---  ------  --------------   -----  \n",
            " 0   Time    284807 non-null  float64\n",
            " 1   V1      284807 non-null  float64\n",
            " 2   V2      284807 non-null  float64\n",
            " 3   V3      284807 non-null  float64\n",
            " 4   V4      284807 non-null  float64\n",
            " 5   V5      284807 non-null  float64\n",
            " 6   V6      284807 non-null  float64\n",
            " 7   V7      284807 non-null  float64\n",
            " 8   V8      284807 non-null  float64\n",
            " 9   V9      284807 non-null  float64\n",
            " 10  V10     284807 non-null  float64\n",
            " 11  V11     284807 non-null  float64\n",
            " 12  V12     284807 non-null  float64\n",
            " 13  V13     284807 non-null  float64\n",
            " 14  V14     284807 non-null  float64\n",
            " 15  V15     284807 non-null  float64\n",
            " 16  V16     284807 non-null  float64\n",
            " 17  V17     284807 non-null  float64\n",
            " 18  V18     284807 non-null  float64\n",
            " 19  V19     284807 non-null  float64\n",
            " 20  V20     284807 non-null  float64\n",
            " 21  V21     284807 non-null  float64\n",
            " 22  V22     284807 non-null  float64\n",
            " 23  V23     284807 non-null  float64\n",
            " 24  V24     284807 non-null  float64\n",
            " 25  V25     284807 non-null  float64\n",
            " 26  V26     284807 non-null  float64\n",
            " 27  V27     284807 non-null  float64\n",
            " 28  V28     284807 non-null  float64\n",
            " 29  Amount  284807 non-null  float64\n",
            " 30  Class   284807 non-null  int64  \n",
            "dtypes: float64(30), int64(1)\n",
            "memory usage: 67.4 MB\n"
          ]
        }
      ],
      "source": [
        "df.info()"
      ]
    },
    {
      "cell_type": "markdown",
      "id": "a5b274a3",
      "metadata": {
        "id": "a5b274a3"
      },
      "source": [
        "### Seperate features and Labels"
      ]
    },
    {
      "cell_type": "code",
      "execution_count": 8,
      "id": "756ece6c",
      "metadata": {
        "id": "756ece6c"
      },
      "outputs": [],
      "source": [
        "inputs = df.drop(\"Class\",axis=1)\n",
        "target = df['Class']"
      ]
    },
    {
      "cell_type": "code",
      "execution_count": 9,
      "id": "74d8e862",
      "metadata": {
        "id": "74d8e862",
        "outputId": "1dbec997-657b-48f8-8f8f-5cc8b100eee6",
        "colab": {
          "base_uri": "https://localhost:8080/",
          "height": 300
        }
      },
      "outputs": [
        {
          "output_type": "execute_result",
          "data": {
            "text/plain": [
              "   Time        V1        V2        V3        V4        V5        V6        V7  \\\n",
              "0   0.0 -1.359807 -0.072781  2.536347  1.378155 -0.338321  0.462388  0.239599   \n",
              "1   0.0  1.191857  0.266151  0.166480  0.448154  0.060018 -0.082361 -0.078803   \n",
              "2   1.0 -1.358354 -1.340163  1.773209  0.379780 -0.503198  1.800499  0.791461   \n",
              "3   1.0 -0.966272 -0.185226  1.792993 -0.863291 -0.010309  1.247203  0.237609   \n",
              "4   2.0 -1.158233  0.877737  1.548718  0.403034 -0.407193  0.095921  0.592941   \n",
              "\n",
              "         V8        V9  ...       V20       V21       V22       V23       V24  \\\n",
              "0  0.098698  0.363787  ...  0.251412 -0.018307  0.277838 -0.110474  0.066928   \n",
              "1  0.085102 -0.255425  ... -0.069083 -0.225775 -0.638672  0.101288 -0.339846   \n",
              "2  0.247676 -1.514654  ...  0.524980  0.247998  0.771679  0.909412 -0.689281   \n",
              "3  0.377436 -1.387024  ... -0.208038 -0.108300  0.005274 -0.190321 -1.175575   \n",
              "4 -0.270533  0.817739  ...  0.408542 -0.009431  0.798278 -0.137458  0.141267   \n",
              "\n",
              "        V25       V26       V27       V28  Amount  \n",
              "0  0.128539 -0.189115  0.133558 -0.021053  149.62  \n",
              "1  0.167170  0.125895 -0.008983  0.014724    2.69  \n",
              "2 -0.327642 -0.139097 -0.055353 -0.059752  378.66  \n",
              "3  0.647376 -0.221929  0.062723  0.061458  123.50  \n",
              "4 -0.206010  0.502292  0.219422  0.215153   69.99  \n",
              "\n",
              "[5 rows x 30 columns]"
            ],
            "text/html": [
              "\n",
              "  <div id=\"df-b956ae22-f2ff-46ba-85fe-45aead2d94ad\">\n",
              "    <div class=\"colab-df-container\">\n",
              "      <div>\n",
              "<style scoped>\n",
              "    .dataframe tbody tr th:only-of-type {\n",
              "        vertical-align: middle;\n",
              "    }\n",
              "\n",
              "    .dataframe tbody tr th {\n",
              "        vertical-align: top;\n",
              "    }\n",
              "\n",
              "    .dataframe thead th {\n",
              "        text-align: right;\n",
              "    }\n",
              "</style>\n",
              "<table border=\"1\" class=\"dataframe\">\n",
              "  <thead>\n",
              "    <tr style=\"text-align: right;\">\n",
              "      <th></th>\n",
              "      <th>Time</th>\n",
              "      <th>V1</th>\n",
              "      <th>V2</th>\n",
              "      <th>V3</th>\n",
              "      <th>V4</th>\n",
              "      <th>V5</th>\n",
              "      <th>V6</th>\n",
              "      <th>V7</th>\n",
              "      <th>V8</th>\n",
              "      <th>V9</th>\n",
              "      <th>...</th>\n",
              "      <th>V20</th>\n",
              "      <th>V21</th>\n",
              "      <th>V22</th>\n",
              "      <th>V23</th>\n",
              "      <th>V24</th>\n",
              "      <th>V25</th>\n",
              "      <th>V26</th>\n",
              "      <th>V27</th>\n",
              "      <th>V28</th>\n",
              "      <th>Amount</th>\n",
              "    </tr>\n",
              "  </thead>\n",
              "  <tbody>\n",
              "    <tr>\n",
              "      <th>0</th>\n",
              "      <td>0.0</td>\n",
              "      <td>-1.359807</td>\n",
              "      <td>-0.072781</td>\n",
              "      <td>2.536347</td>\n",
              "      <td>1.378155</td>\n",
              "      <td>-0.338321</td>\n",
              "      <td>0.462388</td>\n",
              "      <td>0.239599</td>\n",
              "      <td>0.098698</td>\n",
              "      <td>0.363787</td>\n",
              "      <td>...</td>\n",
              "      <td>0.251412</td>\n",
              "      <td>-0.018307</td>\n",
              "      <td>0.277838</td>\n",
              "      <td>-0.110474</td>\n",
              "      <td>0.066928</td>\n",
              "      <td>0.128539</td>\n",
              "      <td>-0.189115</td>\n",
              "      <td>0.133558</td>\n",
              "      <td>-0.021053</td>\n",
              "      <td>149.62</td>\n",
              "    </tr>\n",
              "    <tr>\n",
              "      <th>1</th>\n",
              "      <td>0.0</td>\n",
              "      <td>1.191857</td>\n",
              "      <td>0.266151</td>\n",
              "      <td>0.166480</td>\n",
              "      <td>0.448154</td>\n",
              "      <td>0.060018</td>\n",
              "      <td>-0.082361</td>\n",
              "      <td>-0.078803</td>\n",
              "      <td>0.085102</td>\n",
              "      <td>-0.255425</td>\n",
              "      <td>...</td>\n",
              "      <td>-0.069083</td>\n",
              "      <td>-0.225775</td>\n",
              "      <td>-0.638672</td>\n",
              "      <td>0.101288</td>\n",
              "      <td>-0.339846</td>\n",
              "      <td>0.167170</td>\n",
              "      <td>0.125895</td>\n",
              "      <td>-0.008983</td>\n",
              "      <td>0.014724</td>\n",
              "      <td>2.69</td>\n",
              "    </tr>\n",
              "    <tr>\n",
              "      <th>2</th>\n",
              "      <td>1.0</td>\n",
              "      <td>-1.358354</td>\n",
              "      <td>-1.340163</td>\n",
              "      <td>1.773209</td>\n",
              "      <td>0.379780</td>\n",
              "      <td>-0.503198</td>\n",
              "      <td>1.800499</td>\n",
              "      <td>0.791461</td>\n",
              "      <td>0.247676</td>\n",
              "      <td>-1.514654</td>\n",
              "      <td>...</td>\n",
              "      <td>0.524980</td>\n",
              "      <td>0.247998</td>\n",
              "      <td>0.771679</td>\n",
              "      <td>0.909412</td>\n",
              "      <td>-0.689281</td>\n",
              "      <td>-0.327642</td>\n",
              "      <td>-0.139097</td>\n",
              "      <td>-0.055353</td>\n",
              "      <td>-0.059752</td>\n",
              "      <td>378.66</td>\n",
              "    </tr>\n",
              "    <tr>\n",
              "      <th>3</th>\n",
              "      <td>1.0</td>\n",
              "      <td>-0.966272</td>\n",
              "      <td>-0.185226</td>\n",
              "      <td>1.792993</td>\n",
              "      <td>-0.863291</td>\n",
              "      <td>-0.010309</td>\n",
              "      <td>1.247203</td>\n",
              "      <td>0.237609</td>\n",
              "      <td>0.377436</td>\n",
              "      <td>-1.387024</td>\n",
              "      <td>...</td>\n",
              "      <td>-0.208038</td>\n",
              "      <td>-0.108300</td>\n",
              "      <td>0.005274</td>\n",
              "      <td>-0.190321</td>\n",
              "      <td>-1.175575</td>\n",
              "      <td>0.647376</td>\n",
              "      <td>-0.221929</td>\n",
              "      <td>0.062723</td>\n",
              "      <td>0.061458</td>\n",
              "      <td>123.50</td>\n",
              "    </tr>\n",
              "    <tr>\n",
              "      <th>4</th>\n",
              "      <td>2.0</td>\n",
              "      <td>-1.158233</td>\n",
              "      <td>0.877737</td>\n",
              "      <td>1.548718</td>\n",
              "      <td>0.403034</td>\n",
              "      <td>-0.407193</td>\n",
              "      <td>0.095921</td>\n",
              "      <td>0.592941</td>\n",
              "      <td>-0.270533</td>\n",
              "      <td>0.817739</td>\n",
              "      <td>...</td>\n",
              "      <td>0.408542</td>\n",
              "      <td>-0.009431</td>\n",
              "      <td>0.798278</td>\n",
              "      <td>-0.137458</td>\n",
              "      <td>0.141267</td>\n",
              "      <td>-0.206010</td>\n",
              "      <td>0.502292</td>\n",
              "      <td>0.219422</td>\n",
              "      <td>0.215153</td>\n",
              "      <td>69.99</td>\n",
              "    </tr>\n",
              "  </tbody>\n",
              "</table>\n",
              "<p>5 rows × 30 columns</p>\n",
              "</div>\n",
              "      <button class=\"colab-df-convert\" onclick=\"convertToInteractive('df-b956ae22-f2ff-46ba-85fe-45aead2d94ad')\"\n",
              "              title=\"Convert this dataframe to an interactive table.\"\n",
              "              style=\"display:none;\">\n",
              "        \n",
              "  <svg xmlns=\"http://www.w3.org/2000/svg\" height=\"24px\"viewBox=\"0 0 24 24\"\n",
              "       width=\"24px\">\n",
              "    <path d=\"M0 0h24v24H0V0z\" fill=\"none\"/>\n",
              "    <path d=\"M18.56 5.44l.94 2.06.94-2.06 2.06-.94-2.06-.94-.94-2.06-.94 2.06-2.06.94zm-11 1L8.5 8.5l.94-2.06 2.06-.94-2.06-.94L8.5 2.5l-.94 2.06-2.06.94zm10 10l.94 2.06.94-2.06 2.06-.94-2.06-.94-.94-2.06-.94 2.06-2.06.94z\"/><path d=\"M17.41 7.96l-1.37-1.37c-.4-.4-.92-.59-1.43-.59-.52 0-1.04.2-1.43.59L10.3 9.45l-7.72 7.72c-.78.78-.78 2.05 0 2.83L4 21.41c.39.39.9.59 1.41.59.51 0 1.02-.2 1.41-.59l7.78-7.78 2.81-2.81c.8-.78.8-2.07 0-2.86zM5.41 20L4 18.59l7.72-7.72 1.47 1.35L5.41 20z\"/>\n",
              "  </svg>\n",
              "      </button>\n",
              "      \n",
              "  <style>\n",
              "    .colab-df-container {\n",
              "      display:flex;\n",
              "      flex-wrap:wrap;\n",
              "      gap: 12px;\n",
              "    }\n",
              "\n",
              "    .colab-df-convert {\n",
              "      background-color: #E8F0FE;\n",
              "      border: none;\n",
              "      border-radius: 50%;\n",
              "      cursor: pointer;\n",
              "      display: none;\n",
              "      fill: #1967D2;\n",
              "      height: 32px;\n",
              "      padding: 0 0 0 0;\n",
              "      width: 32px;\n",
              "    }\n",
              "\n",
              "    .colab-df-convert:hover {\n",
              "      background-color: #E2EBFA;\n",
              "      box-shadow: 0px 1px 2px rgba(60, 64, 67, 0.3), 0px 1px 3px 1px rgba(60, 64, 67, 0.15);\n",
              "      fill: #174EA6;\n",
              "    }\n",
              "\n",
              "    [theme=dark] .colab-df-convert {\n",
              "      background-color: #3B4455;\n",
              "      fill: #D2E3FC;\n",
              "    }\n",
              "\n",
              "    [theme=dark] .colab-df-convert:hover {\n",
              "      background-color: #434B5C;\n",
              "      box-shadow: 0px 1px 3px 1px rgba(0, 0, 0, 0.15);\n",
              "      filter: drop-shadow(0px 1px 2px rgba(0, 0, 0, 0.3));\n",
              "      fill: #FFFFFF;\n",
              "    }\n",
              "  </style>\n",
              "\n",
              "      <script>\n",
              "        const buttonEl =\n",
              "          document.querySelector('#df-b956ae22-f2ff-46ba-85fe-45aead2d94ad button.colab-df-convert');\n",
              "        buttonEl.style.display =\n",
              "          google.colab.kernel.accessAllowed ? 'block' : 'none';\n",
              "\n",
              "        async function convertToInteractive(key) {\n",
              "          const element = document.querySelector('#df-b956ae22-f2ff-46ba-85fe-45aead2d94ad');\n",
              "          const dataTable =\n",
              "            await google.colab.kernel.invokeFunction('convertToInteractive',\n",
              "                                                     [key], {});\n",
              "          if (!dataTable) return;\n",
              "\n",
              "          const docLinkHtml = 'Like what you see? Visit the ' +\n",
              "            '<a target=\"_blank\" href=https://colab.research.google.com/notebooks/data_table.ipynb>data table notebook</a>'\n",
              "            + ' to learn more about interactive tables.';\n",
              "          element.innerHTML = '';\n",
              "          dataTable['output_type'] = 'display_data';\n",
              "          await google.colab.output.renderOutput(dataTable, element);\n",
              "          const docLink = document.createElement('div');\n",
              "          docLink.innerHTML = docLinkHtml;\n",
              "          element.appendChild(docLink);\n",
              "        }\n",
              "      </script>\n",
              "    </div>\n",
              "  </div>\n",
              "  "
            ]
          },
          "metadata": {},
          "execution_count": 9
        }
      ],
      "source": [
        "inputs.head()"
      ]
    },
    {
      "cell_type": "markdown",
      "id": "c2fb8a36",
      "metadata": {
        "id": "c2fb8a36"
      },
      "source": [
        "### Split the dataset to train and test"
      ]
    },
    {
      "cell_type": "code",
      "execution_count": 10,
      "id": "b4fd613f",
      "metadata": {
        "id": "b4fd613f"
      },
      "outputs": [],
      "source": [
        "from sklearn.model_selection import train_test_split\n",
        "\n",
        "X_train, X_test, y_train, y_test = train_test_split(inputs, target, train_size = 0.70, random_state=0)"
      ]
    },
    {
      "cell_type": "code",
      "execution_count": 11,
      "id": "c35eb8ab",
      "metadata": {
        "id": "c35eb8ab",
        "outputId": "2a9276a9-087e-4761-a083-8d12e6f15e75",
        "colab": {
          "base_uri": "https://localhost:8080/"
        }
      },
      "outputs": [
        {
          "output_type": "stream",
          "name": "stdout",
          "text": [
            "(199364, 30) (199364,)\n",
            "(85443, 30) (85443,)\n"
          ]
        }
      ],
      "source": [
        "print(X_train.shape, y_train.shape)\n",
        "print(X_test.shape, y_test.shape)"
      ]
    },
    {
      "cell_type": "markdown",
      "id": "98c6bac1",
      "metadata": {
        "id": "98c6bac1"
      },
      "source": [
        "### Normalisation is required"
      ]
    },
    {
      "cell_type": "code",
      "execution_count": 12,
      "id": "8ca8adfc",
      "metadata": {
        "id": "8ca8adfc",
        "outputId": "c1f39320-47f9-4acd-d270-ebe9dccbed5b",
        "colab": {
          "base_uri": "https://localhost:8080/",
          "height": 300
        }
      },
      "outputs": [
        {
          "output_type": "execute_result",
          "data": {
            "text/plain": [
              "       Time        V1        V2        V3        V4        V5        V6  \\\n",
              "0  0.659296  0.947594  0.742974  0.767015  0.204891  0.576575  0.532272   \n",
              "1  0.783132  0.993391  0.741886  0.746948  0.254769  0.560629  0.488531   \n",
              "2  0.726295  0.948515  0.743667  0.818653  0.280458  0.555696  0.518814   \n",
              "3  0.193990  0.977700  0.735456  0.795014  0.221352  0.537774  0.477570   \n",
              "4  0.840039  0.919309  0.749305  0.796413  0.224416  0.563756  0.484713   \n",
              "\n",
              "         V7        V8        V9  ...       V20       V21       V22       V23  \\\n",
              "0  0.502833  0.792176  0.463372  ...  0.373951  0.560472  0.510278  0.669169   \n",
              "1  0.499437  0.782550  0.476012  ...  0.373579  0.556170  0.473264  0.669410   \n",
              "2  0.515140  0.773601  0.489094  ...  0.375784  0.561727  0.559651  0.659332   \n",
              "3  0.489833  0.785035  0.440234  ...  0.373886  0.561241  0.501616  0.668079   \n",
              "4  0.508397  0.784340  0.460622  ...  0.373781  0.557908  0.491690  0.662241   \n",
              "\n",
              "        V24       V25       V26       V27       V28    Amount  \n",
              "0  0.051986  0.527966  0.478826  0.658794  0.343297  0.002436  \n",
              "1  0.421998  0.570285  0.456546  0.648003  0.339438  0.000101  \n",
              "2  0.517914  0.568267  0.320261  0.615360  0.307913  0.008654  \n",
              "3  0.463134  0.586428  0.355138  0.650365  0.341588  0.000303  \n",
              "4  0.498299  0.616048  0.509000  0.651842  0.345408  0.004576  \n",
              "\n",
              "[5 rows x 30 columns]"
            ],
            "text/html": [
              "\n",
              "  <div id=\"df-01dd0524-17b9-42ad-9eb8-55566f199059\">\n",
              "    <div class=\"colab-df-container\">\n",
              "      <div>\n",
              "<style scoped>\n",
              "    .dataframe tbody tr th:only-of-type {\n",
              "        vertical-align: middle;\n",
              "    }\n",
              "\n",
              "    .dataframe tbody tr th {\n",
              "        vertical-align: top;\n",
              "    }\n",
              "\n",
              "    .dataframe thead th {\n",
              "        text-align: right;\n",
              "    }\n",
              "</style>\n",
              "<table border=\"1\" class=\"dataframe\">\n",
              "  <thead>\n",
              "    <tr style=\"text-align: right;\">\n",
              "      <th></th>\n",
              "      <th>Time</th>\n",
              "      <th>V1</th>\n",
              "      <th>V2</th>\n",
              "      <th>V3</th>\n",
              "      <th>V4</th>\n",
              "      <th>V5</th>\n",
              "      <th>V6</th>\n",
              "      <th>V7</th>\n",
              "      <th>V8</th>\n",
              "      <th>V9</th>\n",
              "      <th>...</th>\n",
              "      <th>V20</th>\n",
              "      <th>V21</th>\n",
              "      <th>V22</th>\n",
              "      <th>V23</th>\n",
              "      <th>V24</th>\n",
              "      <th>V25</th>\n",
              "      <th>V26</th>\n",
              "      <th>V27</th>\n",
              "      <th>V28</th>\n",
              "      <th>Amount</th>\n",
              "    </tr>\n",
              "  </thead>\n",
              "  <tbody>\n",
              "    <tr>\n",
              "      <th>0</th>\n",
              "      <td>0.659296</td>\n",
              "      <td>0.947594</td>\n",
              "      <td>0.742974</td>\n",
              "      <td>0.767015</td>\n",
              "      <td>0.204891</td>\n",
              "      <td>0.576575</td>\n",
              "      <td>0.532272</td>\n",
              "      <td>0.502833</td>\n",
              "      <td>0.792176</td>\n",
              "      <td>0.463372</td>\n",
              "      <td>...</td>\n",
              "      <td>0.373951</td>\n",
              "      <td>0.560472</td>\n",
              "      <td>0.510278</td>\n",
              "      <td>0.669169</td>\n",
              "      <td>0.051986</td>\n",
              "      <td>0.527966</td>\n",
              "      <td>0.478826</td>\n",
              "      <td>0.658794</td>\n",
              "      <td>0.343297</td>\n",
              "      <td>0.002436</td>\n",
              "    </tr>\n",
              "    <tr>\n",
              "      <th>1</th>\n",
              "      <td>0.783132</td>\n",
              "      <td>0.993391</td>\n",
              "      <td>0.741886</td>\n",
              "      <td>0.746948</td>\n",
              "      <td>0.254769</td>\n",
              "      <td>0.560629</td>\n",
              "      <td>0.488531</td>\n",
              "      <td>0.499437</td>\n",
              "      <td>0.782550</td>\n",
              "      <td>0.476012</td>\n",
              "      <td>...</td>\n",
              "      <td>0.373579</td>\n",
              "      <td>0.556170</td>\n",
              "      <td>0.473264</td>\n",
              "      <td>0.669410</td>\n",
              "      <td>0.421998</td>\n",
              "      <td>0.570285</td>\n",
              "      <td>0.456546</td>\n",
              "      <td>0.648003</td>\n",
              "      <td>0.339438</td>\n",
              "      <td>0.000101</td>\n",
              "    </tr>\n",
              "    <tr>\n",
              "      <th>2</th>\n",
              "      <td>0.726295</td>\n",
              "      <td>0.948515</td>\n",
              "      <td>0.743667</td>\n",
              "      <td>0.818653</td>\n",
              "      <td>0.280458</td>\n",
              "      <td>0.555696</td>\n",
              "      <td>0.518814</td>\n",
              "      <td>0.515140</td>\n",
              "      <td>0.773601</td>\n",
              "      <td>0.489094</td>\n",
              "      <td>...</td>\n",
              "      <td>0.375784</td>\n",
              "      <td>0.561727</td>\n",
              "      <td>0.559651</td>\n",
              "      <td>0.659332</td>\n",
              "      <td>0.517914</td>\n",
              "      <td>0.568267</td>\n",
              "      <td>0.320261</td>\n",
              "      <td>0.615360</td>\n",
              "      <td>0.307913</td>\n",
              "      <td>0.008654</td>\n",
              "    </tr>\n",
              "    <tr>\n",
              "      <th>3</th>\n",
              "      <td>0.193990</td>\n",
              "      <td>0.977700</td>\n",
              "      <td>0.735456</td>\n",
              "      <td>0.795014</td>\n",
              "      <td>0.221352</td>\n",
              "      <td>0.537774</td>\n",
              "      <td>0.477570</td>\n",
              "      <td>0.489833</td>\n",
              "      <td>0.785035</td>\n",
              "      <td>0.440234</td>\n",
              "      <td>...</td>\n",
              "      <td>0.373886</td>\n",
              "      <td>0.561241</td>\n",
              "      <td>0.501616</td>\n",
              "      <td>0.668079</td>\n",
              "      <td>0.463134</td>\n",
              "      <td>0.586428</td>\n",
              "      <td>0.355138</td>\n",
              "      <td>0.650365</td>\n",
              "      <td>0.341588</td>\n",
              "      <td>0.000303</td>\n",
              "    </tr>\n",
              "    <tr>\n",
              "      <th>4</th>\n",
              "      <td>0.840039</td>\n",
              "      <td>0.919309</td>\n",
              "      <td>0.749305</td>\n",
              "      <td>0.796413</td>\n",
              "      <td>0.224416</td>\n",
              "      <td>0.563756</td>\n",
              "      <td>0.484713</td>\n",
              "      <td>0.508397</td>\n",
              "      <td>0.784340</td>\n",
              "      <td>0.460622</td>\n",
              "      <td>...</td>\n",
              "      <td>0.373781</td>\n",
              "      <td>0.557908</td>\n",
              "      <td>0.491690</td>\n",
              "      <td>0.662241</td>\n",
              "      <td>0.498299</td>\n",
              "      <td>0.616048</td>\n",
              "      <td>0.509000</td>\n",
              "      <td>0.651842</td>\n",
              "      <td>0.345408</td>\n",
              "      <td>0.004576</td>\n",
              "    </tr>\n",
              "  </tbody>\n",
              "</table>\n",
              "<p>5 rows × 30 columns</p>\n",
              "</div>\n",
              "      <button class=\"colab-df-convert\" onclick=\"convertToInteractive('df-01dd0524-17b9-42ad-9eb8-55566f199059')\"\n",
              "              title=\"Convert this dataframe to an interactive table.\"\n",
              "              style=\"display:none;\">\n",
              "        \n",
              "  <svg xmlns=\"http://www.w3.org/2000/svg\" height=\"24px\"viewBox=\"0 0 24 24\"\n",
              "       width=\"24px\">\n",
              "    <path d=\"M0 0h24v24H0V0z\" fill=\"none\"/>\n",
              "    <path d=\"M18.56 5.44l.94 2.06.94-2.06 2.06-.94-2.06-.94-.94-2.06-.94 2.06-2.06.94zm-11 1L8.5 8.5l.94-2.06 2.06-.94-2.06-.94L8.5 2.5l-.94 2.06-2.06.94zm10 10l.94 2.06.94-2.06 2.06-.94-2.06-.94-.94-2.06-.94 2.06-2.06.94z\"/><path d=\"M17.41 7.96l-1.37-1.37c-.4-.4-.92-.59-1.43-.59-.52 0-1.04.2-1.43.59L10.3 9.45l-7.72 7.72c-.78.78-.78 2.05 0 2.83L4 21.41c.39.39.9.59 1.41.59.51 0 1.02-.2 1.41-.59l7.78-7.78 2.81-2.81c.8-.78.8-2.07 0-2.86zM5.41 20L4 18.59l7.72-7.72 1.47 1.35L5.41 20z\"/>\n",
              "  </svg>\n",
              "      </button>\n",
              "      \n",
              "  <style>\n",
              "    .colab-df-container {\n",
              "      display:flex;\n",
              "      flex-wrap:wrap;\n",
              "      gap: 12px;\n",
              "    }\n",
              "\n",
              "    .colab-df-convert {\n",
              "      background-color: #E8F0FE;\n",
              "      border: none;\n",
              "      border-radius: 50%;\n",
              "      cursor: pointer;\n",
              "      display: none;\n",
              "      fill: #1967D2;\n",
              "      height: 32px;\n",
              "      padding: 0 0 0 0;\n",
              "      width: 32px;\n",
              "    }\n",
              "\n",
              "    .colab-df-convert:hover {\n",
              "      background-color: #E2EBFA;\n",
              "      box-shadow: 0px 1px 2px rgba(60, 64, 67, 0.3), 0px 1px 3px 1px rgba(60, 64, 67, 0.15);\n",
              "      fill: #174EA6;\n",
              "    }\n",
              "\n",
              "    [theme=dark] .colab-df-convert {\n",
              "      background-color: #3B4455;\n",
              "      fill: #D2E3FC;\n",
              "    }\n",
              "\n",
              "    [theme=dark] .colab-df-convert:hover {\n",
              "      background-color: #434B5C;\n",
              "      box-shadow: 0px 1px 3px 1px rgba(0, 0, 0, 0.15);\n",
              "      filter: drop-shadow(0px 1px 2px rgba(0, 0, 0, 0.3));\n",
              "      fill: #FFFFFF;\n",
              "    }\n",
              "  </style>\n",
              "\n",
              "      <script>\n",
              "        const buttonEl =\n",
              "          document.querySelector('#df-01dd0524-17b9-42ad-9eb8-55566f199059 button.colab-df-convert');\n",
              "        buttonEl.style.display =\n",
              "          google.colab.kernel.accessAllowed ? 'block' : 'none';\n",
              "\n",
              "        async function convertToInteractive(key) {\n",
              "          const element = document.querySelector('#df-01dd0524-17b9-42ad-9eb8-55566f199059');\n",
              "          const dataTable =\n",
              "            await google.colab.kernel.invokeFunction('convertToInteractive',\n",
              "                                                     [key], {});\n",
              "          if (!dataTable) return;\n",
              "\n",
              "          const docLinkHtml = 'Like what you see? Visit the ' +\n",
              "            '<a target=\"_blank\" href=https://colab.research.google.com/notebooks/data_table.ipynb>data table notebook</a>'\n",
              "            + ' to learn more about interactive tables.';\n",
              "          element.innerHTML = '';\n",
              "          dataTable['output_type'] = 'display_data';\n",
              "          await google.colab.output.renderOutput(dataTable, element);\n",
              "          const docLink = document.createElement('div');\n",
              "          docLink.innerHTML = docLinkHtml;\n",
              "          element.appendChild(docLink);\n",
              "        }\n",
              "      </script>\n",
              "    </div>\n",
              "  </div>\n",
              "  "
            ]
          },
          "metadata": {},
          "execution_count": 12
        }
      ],
      "source": [
        "# Amount and Time column is in different dimensions\n",
        "\n",
        "from sklearn.preprocessing import MinMaxScaler\n",
        "\n",
        "scaler = MinMaxScaler()\n",
        "\n",
        "X_train = pd.DataFrame(scaler.fit_transform(X_train), columns = X_train.columns)\n",
        "\n",
        "X_train.head()"
      ]
    },
    {
      "cell_type": "code",
      "source": [
        "X_train.shape"
      ],
      "metadata": {
        "colab": {
          "base_uri": "https://localhost:8080/"
        },
        "id": "dbSrqz_CdzuM",
        "outputId": "682b435b-9294-44e2-b0ec-b4cffe3146b8"
      },
      "id": "dbSrqz_CdzuM",
      "execution_count": 13,
      "outputs": [
        {
          "output_type": "execute_result",
          "data": {
            "text/plain": [
              "(199364, 30)"
            ]
          },
          "metadata": {},
          "execution_count": 13
        }
      ]
    },
    {
      "cell_type": "code",
      "source": [
        "# Amount and Time column is in different dimensions\n",
        "\n",
        "from sklearn.preprocessing import MinMaxScaler\n",
        "\n",
        "scaler = MinMaxScaler()\n",
        "\n",
        "X_test = pd.DataFrame(scaler.fit_transform(X_test), columns = X_test.columns)\n",
        "\n",
        "X_test.head()"
      ],
      "metadata": {
        "colab": {
          "base_uri": "https://localhost:8080/",
          "height": 300
        },
        "id": "QweiQ876dnQC",
        "outputId": "afebbcc1-8f15-40ee-eea8-d59444fe3d71"
      },
      "id": "QweiQ876dnQC",
      "execution_count": 14,
      "outputs": [
        {
          "output_type": "execute_result",
          "data": {
            "text/plain": [
              "       Time        V1        V2        V3        V4        V5        V6  \\\n",
              "0  0.728181  0.952801  0.832724  0.921238  0.225013  0.774197  0.262097   \n",
              "1  0.909988  0.952352  0.831314  0.924889  0.222803  0.773591  0.255646   \n",
              "2  0.882417  0.930862  0.793623  0.928385  0.281432  0.781666  0.245170   \n",
              "3  0.294737  0.916209  0.830502  0.949674  0.298521  0.753218  0.283916   \n",
              "4  0.115164  0.981039  0.814610  0.936231  0.242515  0.758244  0.257734   \n",
              "\n",
              "         V7        V8        V9  ...       V20       V21       V22       V23  \\\n",
              "0  0.197401  0.729192  0.496262  ...  0.590446  0.496373  0.542211  0.607234   \n",
              "1  0.196399  0.729956  0.489467  ...  0.587391  0.494949  0.518327  0.611546   \n",
              "2  0.181957  0.735710  0.553768  ...  0.592967  0.516452  0.636015  0.630106   \n",
              "3  0.193045  0.727484  0.491674  ...  0.577768  0.518861  0.609565  0.614911   \n",
              "4  0.184226  0.730063  0.558752  ...  0.587064  0.497868  0.563693  0.613362   \n",
              "\n",
              "        V24       V25       V26       V27       V28    Amount  \n",
              "0  0.375948  0.613391  0.426804  0.239147  0.316394  0.001557  \n",
              "1  0.448266  0.570952  0.447394  0.238382  0.316687  0.000077  \n",
              "2  0.468606  0.474746  0.255384  0.243441  0.321998  0.003737  \n",
              "3  0.347095  0.599183  0.396397  0.224208  0.299720  0.011989  \n",
              "4  0.427122  0.624929  0.381556  0.236460  0.313190  0.000195  \n",
              "\n",
              "[5 rows x 30 columns]"
            ],
            "text/html": [
              "\n",
              "  <div id=\"df-64e35c96-de93-4562-8dfc-c1cb76b62002\">\n",
              "    <div class=\"colab-df-container\">\n",
              "      <div>\n",
              "<style scoped>\n",
              "    .dataframe tbody tr th:only-of-type {\n",
              "        vertical-align: middle;\n",
              "    }\n",
              "\n",
              "    .dataframe tbody tr th {\n",
              "        vertical-align: top;\n",
              "    }\n",
              "\n",
              "    .dataframe thead th {\n",
              "        text-align: right;\n",
              "    }\n",
              "</style>\n",
              "<table border=\"1\" class=\"dataframe\">\n",
              "  <thead>\n",
              "    <tr style=\"text-align: right;\">\n",
              "      <th></th>\n",
              "      <th>Time</th>\n",
              "      <th>V1</th>\n",
              "      <th>V2</th>\n",
              "      <th>V3</th>\n",
              "      <th>V4</th>\n",
              "      <th>V5</th>\n",
              "      <th>V6</th>\n",
              "      <th>V7</th>\n",
              "      <th>V8</th>\n",
              "      <th>V9</th>\n",
              "      <th>...</th>\n",
              "      <th>V20</th>\n",
              "      <th>V21</th>\n",
              "      <th>V22</th>\n",
              "      <th>V23</th>\n",
              "      <th>V24</th>\n",
              "      <th>V25</th>\n",
              "      <th>V26</th>\n",
              "      <th>V27</th>\n",
              "      <th>V28</th>\n",
              "      <th>Amount</th>\n",
              "    </tr>\n",
              "  </thead>\n",
              "  <tbody>\n",
              "    <tr>\n",
              "      <th>0</th>\n",
              "      <td>0.728181</td>\n",
              "      <td>0.952801</td>\n",
              "      <td>0.832724</td>\n",
              "      <td>0.921238</td>\n",
              "      <td>0.225013</td>\n",
              "      <td>0.774197</td>\n",
              "      <td>0.262097</td>\n",
              "      <td>0.197401</td>\n",
              "      <td>0.729192</td>\n",
              "      <td>0.496262</td>\n",
              "      <td>...</td>\n",
              "      <td>0.590446</td>\n",
              "      <td>0.496373</td>\n",
              "      <td>0.542211</td>\n",
              "      <td>0.607234</td>\n",
              "      <td>0.375948</td>\n",
              "      <td>0.613391</td>\n",
              "      <td>0.426804</td>\n",
              "      <td>0.239147</td>\n",
              "      <td>0.316394</td>\n",
              "      <td>0.001557</td>\n",
              "    </tr>\n",
              "    <tr>\n",
              "      <th>1</th>\n",
              "      <td>0.909988</td>\n",
              "      <td>0.952352</td>\n",
              "      <td>0.831314</td>\n",
              "      <td>0.924889</td>\n",
              "      <td>0.222803</td>\n",
              "      <td>0.773591</td>\n",
              "      <td>0.255646</td>\n",
              "      <td>0.196399</td>\n",
              "      <td>0.729956</td>\n",
              "      <td>0.489467</td>\n",
              "      <td>...</td>\n",
              "      <td>0.587391</td>\n",
              "      <td>0.494949</td>\n",
              "      <td>0.518327</td>\n",
              "      <td>0.611546</td>\n",
              "      <td>0.448266</td>\n",
              "      <td>0.570952</td>\n",
              "      <td>0.447394</td>\n",
              "      <td>0.238382</td>\n",
              "      <td>0.316687</td>\n",
              "      <td>0.000077</td>\n",
              "    </tr>\n",
              "    <tr>\n",
              "      <th>2</th>\n",
              "      <td>0.882417</td>\n",
              "      <td>0.930862</td>\n",
              "      <td>0.793623</td>\n",
              "      <td>0.928385</td>\n",
              "      <td>0.281432</td>\n",
              "      <td>0.781666</td>\n",
              "      <td>0.245170</td>\n",
              "      <td>0.181957</td>\n",
              "      <td>0.735710</td>\n",
              "      <td>0.553768</td>\n",
              "      <td>...</td>\n",
              "      <td>0.592967</td>\n",
              "      <td>0.516452</td>\n",
              "      <td>0.636015</td>\n",
              "      <td>0.630106</td>\n",
              "      <td>0.468606</td>\n",
              "      <td>0.474746</td>\n",
              "      <td>0.255384</td>\n",
              "      <td>0.243441</td>\n",
              "      <td>0.321998</td>\n",
              "      <td>0.003737</td>\n",
              "    </tr>\n",
              "    <tr>\n",
              "      <th>3</th>\n",
              "      <td>0.294737</td>\n",
              "      <td>0.916209</td>\n",
              "      <td>0.830502</td>\n",
              "      <td>0.949674</td>\n",
              "      <td>0.298521</td>\n",
              "      <td>0.753218</td>\n",
              "      <td>0.283916</td>\n",
              "      <td>0.193045</td>\n",
              "      <td>0.727484</td>\n",
              "      <td>0.491674</td>\n",
              "      <td>...</td>\n",
              "      <td>0.577768</td>\n",
              "      <td>0.518861</td>\n",
              "      <td>0.609565</td>\n",
              "      <td>0.614911</td>\n",
              "      <td>0.347095</td>\n",
              "      <td>0.599183</td>\n",
              "      <td>0.396397</td>\n",
              "      <td>0.224208</td>\n",
              "      <td>0.299720</td>\n",
              "      <td>0.011989</td>\n",
              "    </tr>\n",
              "    <tr>\n",
              "      <th>4</th>\n",
              "      <td>0.115164</td>\n",
              "      <td>0.981039</td>\n",
              "      <td>0.814610</td>\n",
              "      <td>0.936231</td>\n",
              "      <td>0.242515</td>\n",
              "      <td>0.758244</td>\n",
              "      <td>0.257734</td>\n",
              "      <td>0.184226</td>\n",
              "      <td>0.730063</td>\n",
              "      <td>0.558752</td>\n",
              "      <td>...</td>\n",
              "      <td>0.587064</td>\n",
              "      <td>0.497868</td>\n",
              "      <td>0.563693</td>\n",
              "      <td>0.613362</td>\n",
              "      <td>0.427122</td>\n",
              "      <td>0.624929</td>\n",
              "      <td>0.381556</td>\n",
              "      <td>0.236460</td>\n",
              "      <td>0.313190</td>\n",
              "      <td>0.000195</td>\n",
              "    </tr>\n",
              "  </tbody>\n",
              "</table>\n",
              "<p>5 rows × 30 columns</p>\n",
              "</div>\n",
              "      <button class=\"colab-df-convert\" onclick=\"convertToInteractive('df-64e35c96-de93-4562-8dfc-c1cb76b62002')\"\n",
              "              title=\"Convert this dataframe to an interactive table.\"\n",
              "              style=\"display:none;\">\n",
              "        \n",
              "  <svg xmlns=\"http://www.w3.org/2000/svg\" height=\"24px\"viewBox=\"0 0 24 24\"\n",
              "       width=\"24px\">\n",
              "    <path d=\"M0 0h24v24H0V0z\" fill=\"none\"/>\n",
              "    <path d=\"M18.56 5.44l.94 2.06.94-2.06 2.06-.94-2.06-.94-.94-2.06-.94 2.06-2.06.94zm-11 1L8.5 8.5l.94-2.06 2.06-.94-2.06-.94L8.5 2.5l-.94 2.06-2.06.94zm10 10l.94 2.06.94-2.06 2.06-.94-2.06-.94-.94-2.06-.94 2.06-2.06.94z\"/><path d=\"M17.41 7.96l-1.37-1.37c-.4-.4-.92-.59-1.43-.59-.52 0-1.04.2-1.43.59L10.3 9.45l-7.72 7.72c-.78.78-.78 2.05 0 2.83L4 21.41c.39.39.9.59 1.41.59.51 0 1.02-.2 1.41-.59l7.78-7.78 2.81-2.81c.8-.78.8-2.07 0-2.86zM5.41 20L4 18.59l7.72-7.72 1.47 1.35L5.41 20z\"/>\n",
              "  </svg>\n",
              "      </button>\n",
              "      \n",
              "  <style>\n",
              "    .colab-df-container {\n",
              "      display:flex;\n",
              "      flex-wrap:wrap;\n",
              "      gap: 12px;\n",
              "    }\n",
              "\n",
              "    .colab-df-convert {\n",
              "      background-color: #E8F0FE;\n",
              "      border: none;\n",
              "      border-radius: 50%;\n",
              "      cursor: pointer;\n",
              "      display: none;\n",
              "      fill: #1967D2;\n",
              "      height: 32px;\n",
              "      padding: 0 0 0 0;\n",
              "      width: 32px;\n",
              "    }\n",
              "\n",
              "    .colab-df-convert:hover {\n",
              "      background-color: #E2EBFA;\n",
              "      box-shadow: 0px 1px 2px rgba(60, 64, 67, 0.3), 0px 1px 3px 1px rgba(60, 64, 67, 0.15);\n",
              "      fill: #174EA6;\n",
              "    }\n",
              "\n",
              "    [theme=dark] .colab-df-convert {\n",
              "      background-color: #3B4455;\n",
              "      fill: #D2E3FC;\n",
              "    }\n",
              "\n",
              "    [theme=dark] .colab-df-convert:hover {\n",
              "      background-color: #434B5C;\n",
              "      box-shadow: 0px 1px 3px 1px rgba(0, 0, 0, 0.15);\n",
              "      filter: drop-shadow(0px 1px 2px rgba(0, 0, 0, 0.3));\n",
              "      fill: #FFFFFF;\n",
              "    }\n",
              "  </style>\n",
              "\n",
              "      <script>\n",
              "        const buttonEl =\n",
              "          document.querySelector('#df-64e35c96-de93-4562-8dfc-c1cb76b62002 button.colab-df-convert');\n",
              "        buttonEl.style.display =\n",
              "          google.colab.kernel.accessAllowed ? 'block' : 'none';\n",
              "\n",
              "        async function convertToInteractive(key) {\n",
              "          const element = document.querySelector('#df-64e35c96-de93-4562-8dfc-c1cb76b62002');\n",
              "          const dataTable =\n",
              "            await google.colab.kernel.invokeFunction('convertToInteractive',\n",
              "                                                     [key], {});\n",
              "          if (!dataTable) return;\n",
              "\n",
              "          const docLinkHtml = 'Like what you see? Visit the ' +\n",
              "            '<a target=\"_blank\" href=https://colab.research.google.com/notebooks/data_table.ipynb>data table notebook</a>'\n",
              "            + ' to learn more about interactive tables.';\n",
              "          element.innerHTML = '';\n",
              "          dataTable['output_type'] = 'display_data';\n",
              "          await google.colab.output.renderOutput(dataTable, element);\n",
              "          const docLink = document.createElement('div');\n",
              "          docLink.innerHTML = docLinkHtml;\n",
              "          element.appendChild(docLink);\n",
              "        }\n",
              "      </script>\n",
              "    </div>\n",
              "  </div>\n",
              "  "
            ]
          },
          "metadata": {},
          "execution_count": 14
        }
      ]
    },
    {
      "cell_type": "code",
      "source": [
        "X_test.shape"
      ],
      "metadata": {
        "colab": {
          "base_uri": "https://localhost:8080/"
        },
        "id": "YGTY_qynd3vm",
        "outputId": "fa5babe4-6de4-45e6-d6a1-d0007658e515"
      },
      "id": "YGTY_qynd3vm",
      "execution_count": 15,
      "outputs": [
        {
          "output_type": "execute_result",
          "data": {
            "text/plain": [
              "(85443, 30)"
            ]
          },
          "metadata": {},
          "execution_count": 15
        }
      ]
    },
    {
      "cell_type": "markdown",
      "id": "dc2593ca",
      "metadata": {
        "id": "dc2593ca"
      },
      "source": [
        "### Model Building (ANN)"
      ]
    },
    {
      "cell_type": "code",
      "execution_count": 16,
      "id": "0a5384e0",
      "metadata": {
        "id": "0a5384e0"
      },
      "outputs": [],
      "source": [
        "from tensorflow.keras import Sequential\n",
        "from tensorflow.keras.layers import Dense"
      ]
    },
    {
      "cell_type": "markdown",
      "source": [
        "* relu activation with adam optimizer."
      ],
      "metadata": {
        "id": "BGL-JO-ICk4C"
      },
      "id": "BGL-JO-ICk4C"
    },
    {
      "cell_type": "code",
      "execution_count": 17,
      "id": "5563284f",
      "metadata": {
        "id": "5563284f"
      },
      "outputs": [],
      "source": [
        "model=Sequential()\n",
        "model.add(Dense(units=12,kernel_initializer='uniform',activation='relu',input_dim=30)) # input layer\n",
        "model.add(Dense(units=12,kernel_initializer='uniform',activation='relu'))  # hidden layer\n",
        "\n",
        "model.add(Dense(units=1,kernel_initializer='uniform',activation='sigmoid'))  # output layer"
      ]
    },
    {
      "cell_type": "markdown",
      "id": "63816b4e",
      "metadata": {
        "id": "63816b4e"
      },
      "source": [
        "### Compile the model"
      ]
    },
    {
      "cell_type": "code",
      "execution_count": 18,
      "id": "0969db6a",
      "metadata": {
        "id": "0969db6a"
      },
      "outputs": [],
      "source": [
        "model.compile(optimizer='adam',loss='binary_crossentropy',metrics='accuracy')"
      ]
    },
    {
      "cell_type": "code",
      "execution_count": 19,
      "id": "135cf8bb",
      "metadata": {
        "id": "135cf8bb",
        "outputId": "373901b7-fd75-4a9c-b792-4743ba60f137",
        "colab": {
          "base_uri": "https://localhost:8080/"
        }
      },
      "outputs": [
        {
          "output_type": "execute_result",
          "data": {
            "text/plain": [
              "<keras.callbacks.History at 0x7f5e9d6ebe90>"
            ]
          },
          "metadata": {},
          "execution_count": 19
        }
      ],
      "source": [
        "model.fit(X_train,y_train,epochs=30,batch_size=15,verbose=0)"
      ]
    },
    {
      "cell_type": "markdown",
      "source": [
        "* Find Accuracy score"
      ],
      "metadata": {
        "id": "UCaneijk1SJu"
      },
      "id": "UCaneijk1SJu"
    },
    {
      "cell_type": "code",
      "execution_count": 20,
      "id": "985809e8",
      "metadata": {
        "id": "985809e8",
        "colab": {
          "base_uri": "https://localhost:8080/"
        },
        "outputId": "8a6fba63-16e7-4184-f1e8-81002e3ce418"
      },
      "outputs": [
        {
          "output_type": "stream",
          "name": "stdout",
          "text": [
            "6646/6646 [==============================] - 9s 1ms/step - loss: 0.0030 - accuracy: 0.9994\n"
          ]
        }
      ],
      "source": [
        "loss,accuracy=model.evaluate(X_train, y_train, batch_size=30)"
      ]
    },
    {
      "cell_type": "code",
      "source": [
        "print(\"Loss: {:.4f}\".format(loss))\n",
        "print(\"Acc : {:.4f}\".format(accuracy))"
      ],
      "metadata": {
        "colab": {
          "base_uri": "https://localhost:8080/"
        },
        "id": "YuVl9Al8z6Te",
        "outputId": "7ef7e507-d801-4fc2-ada6-65472466101a"
      },
      "id": "YuVl9Al8z6Te",
      "execution_count": 21,
      "outputs": [
        {
          "output_type": "stream",
          "name": "stdout",
          "text": [
            "Loss: 0.003042155411094427\n",
            "Acc 0.9994081258773804\n"
          ]
        }
      ]
    },
    {
      "cell_type": "code",
      "source": [
        "y_pred=model.predict(X_test)\n",
        "y_pred = y_pred>0.4\n",
        "y_pred"
      ],
      "metadata": {
        "id": "gFt7hTKwz6QP"
      },
      "id": "gFt7hTKwz6QP",
      "execution_count": 22,
      "outputs": []
    },
    {
      "cell_type": "code",
      "source": [
        "from sklearn.metrics import confusion_matrix\n",
        "cm=confusion_matrix(y_test,y_pred)"
      ],
      "metadata": {
        "id": "295xcbMpz6NT"
      },
      "id": "295xcbMpz6NT",
      "execution_count": 23,
      "outputs": []
    },
    {
      "cell_type": "code",
      "source": [
        "sns.heatmap(pd.DataFrame(cm),annot=True)"
      ],
      "metadata": {
        "colab": {
          "base_uri": "https://localhost:8080/",
          "height": 282
        },
        "id": "bkBBmgVyz6LT",
        "outputId": "4afac8c5-aebb-4e1f-bea2-34345b7d2390"
      },
      "id": "bkBBmgVyz6LT",
      "execution_count": 24,
      "outputs": [
        {
          "output_type": "execute_result",
          "data": {
            "text/plain": [
              "<matplotlib.axes._subplots.AxesSubplot at 0x7f5e9d592c10>"
            ]
          },
          "metadata": {},
          "execution_count": 24
        },
        {
          "output_type": "display_data",
          "data": {
            "text/plain": [
              "<Figure size 432x288 with 2 Axes>"
            ],
            "image/png": "[encoded data removed]"
          },
          "metadata": {
            "needs_background": "light"
          }
        }
      ]
    },
    {
      "cell_type": "code",
      "source": [
        "from sklearn.metrics import classification_report\n",
        "print(classification_report(y_test,y_pred))"
      ],
      "metadata": {
        "colab": {
          "base_uri": "https://localhost:8080/"
        },
        "id": "HRwU2j4Fz537",
        "outputId": "b0aea767-6393-457e-f696-29cbd3a2ab1d"
      },
      "id": "HRwU2j4Fz537",
      "execution_count": 25,
      "outputs": [
        {
          "output_type": "stream",
          "name": "stdout",
          "text": [
            "              precision    recall  f1-score   support\n",
            "\n",
            "           0       1.00      1.00      1.00     85296\n",
            "           1       0.88      0.75      0.81       147\n",
            "\n",
            "    accuracy                           1.00     85443\n",
            "   macro avg       0.94      0.87      0.90     85443\n",
            "weighted avg       1.00      1.00      1.00     85443\n",
            "\n"
          ]
        }
      ]
    },
    {
      "cell_type": "code",
      "source": [
        ""
      ],
      "metadata": {
        "id": "sIVQxwLY0wQn"
      },
      "id": "sIVQxwLY0wQn",
      "execution_count": null,
      "outputs": []
    },
    {
      "cell_type": "markdown",
      "source": [
        "Model 2"
      ],
      "metadata": {
        "id": "fMrcyGI4lHac"
      },
      "id": "fMrcyGI4lHac"
    },
    {
      "cell_type": "markdown",
      "source": [
        "* PReLU activation with adadelta optimizer"
      ],
      "metadata": {
        "id": "jR7CSz7uCvxl"
      },
      "id": "jR7CSz7uCvxl"
    },
    {
      "cell_type": "code",
      "source": [
        "# changing the neurons to 20 and checking the model.\n",
        "model=Sequential()\n",
        "model.add(Dense(units=20,kernel_initializer='uniform',activation='PReLU',input_dim=30)) # input layer\n",
        "model.add(Dense(units=20,kernel_initializer='uniform',activation='PReLU'))  # hidden layer\n",
        "\n",
        "model.add(Dense(units=1,kernel_initializer='uniform',activation='sigmoid'))  # output layer"
      ],
      "metadata": {
        "id": "TT9qYHUW1y5U"
      },
      "id": "TT9qYHUW1y5U",
      "execution_count": 28,
      "outputs": []
    },
    {
      "cell_type": "code",
      "source": [
        "model.compile(optimizer='adadelta',loss='binary_crossentropy',metrics='accuracy')"
      ],
      "metadata": {
        "id": "uieEGvn-1y3F"
      },
      "id": "uieEGvn-1y3F",
      "execution_count": 29,
      "outputs": []
    },
    {
      "cell_type": "code",
      "source": [
        "model.fit(X_train,y_train,epochs=90,batch_size=60,verbose=0)"
      ],
      "metadata": {
        "colab": {
          "base_uri": "https://localhost:8080/"
        },
        "id": "wBYOt9r71yzw",
        "outputId": "a1b7146c-29b1-4d59-afe2-d266e756380f"
      },
      "id": "wBYOt9r71yzw",
      "execution_count": 30,
      "outputs": [
        {
          "output_type": "execute_result",
          "data": {
            "text/plain": [
              "<keras.callbacks.History at 0x7f5e9cdda8d0>"
            ]
          },
          "metadata": {},
          "execution_count": 30
        }
      ]
    },
    {
      "cell_type": "code",
      "source": [
        "loss,accuracy=model.evaluate(X_train, y_train, batch_size=30)"
      ],
      "metadata": {
        "colab": {
          "base_uri": "https://localhost:8080/"
        },
        "id": "5gRXKIPw1yxg",
        "outputId": "19ff0505-d528-44a6-bfe3-57f23dc1e02b"
      },
      "id": "5gRXKIPw1yxg",
      "execution_count": 31,
      "outputs": [
        {
          "output_type": "stream",
          "name": "stdout",
          "text": [
            "6646/6646 [==============================] - 10s 1ms/step - loss: 0.0118 - accuracy: 0.9983\n"
          ]
        }
      ]
    },
    {
      "cell_type": "code",
      "source": [
        "print(\"Loss: {:.4f}\".format(loss))\n",
        "print(\"Acc : {:.4f}\".format(accuracy))"
      ],
      "metadata": {
        "colab": {
          "base_uri": "https://localhost:8080/"
        },
        "id": "pB-58qqW1yvK",
        "outputId": "ffac9200-d7a2-4d6a-8269-7ebb469274a9"
      },
      "id": "pB-58qqW1yvK",
      "execution_count": 32,
      "outputs": [
        {
          "output_type": "stream",
          "name": "stdout",
          "text": [
            "Loss: 0.01176801323890686\n",
            "Acc 0.9982694983482361\n"
          ]
        }
      ]
    },
    {
      "cell_type": "code",
      "source": [
        "y_pred=model.predict(X_test)\n",
        "y_pred = y_pred>0.4"
      ],
      "metadata": {
        "id": "9uynZsfG1ysl"
      },
      "id": "9uynZsfG1ysl",
      "execution_count": 33,
      "outputs": []
    },
    {
      "cell_type": "code",
      "source": [
        "from sklearn.metrics import confusion_matrix\n",
        "cm=confusion_matrix(y_test,y_pred)"
      ],
      "metadata": {
        "id": "qRBogOsm1yqh"
      },
      "id": "qRBogOsm1yqh",
      "execution_count": 34,
      "outputs": []
    },
    {
      "cell_type": "code",
      "source": [
        "sns.heatmap(pd.DataFrame(cm),annot=True)"
      ],
      "metadata": {
        "colab": {
          "base_uri": "https://localhost:8080/",
          "height": 282
        },
        "id": "kfOmYA7M1yoK",
        "outputId": "94e0ff52-fd3b-4957-f46c-1409245065ff"
      },
      "id": "kfOmYA7M1yoK",
      "execution_count": 37,
      "outputs": [
        {
          "output_type": "execute_result",
          "data": {
            "text/plain": [
              "<matplotlib.axes._subplots.AxesSubplot at 0x7f5e9d51f650>"
            ]
          },
          "metadata": {},
          "execution_count": 37
        },
        {
          "output_type": "display_data",
          "data": {
            "text/plain": [
              "<Figure size 432x288 with 2 Axes>"
            ],
            "image/png": "[encoded data removed]"
          },
          "metadata": {
            "needs_background": "light"
          }
        }
      ]
    },
    {
      "cell_type": "code",
      "source": [
        "print(classification_report(y_test,y_pred))"
      ],
      "metadata": {
        "colab": {
          "base_uri": "https://localhost:8080/"
        },
        "id": "A32VHaiV1ymA",
        "outputId": "3be61276-ebd8-42ab-9775-512573930e62"
      },
      "id": "A32VHaiV1ymA",
      "execution_count": 38,
      "outputs": [
        {
          "output_type": "stream",
          "name": "stdout",
          "text": [
            "              precision    recall  f1-score   support\n",
            "\n",
            "           0       1.00      1.00      1.00     85296\n",
            "           1       0.00      0.00      0.00       147\n",
            "\n",
            "    accuracy                           1.00     85443\n",
            "   macro avg       0.50      0.50      0.50     85443\n",
            "weighted avg       1.00      1.00      1.00     85443\n",
            "\n"
          ]
        }
      ]
    },
    {
      "cell_type": "code",
      "source": [
        ""
      ],
      "metadata": {
        "id": "VXW2mgfb1yjX"
      },
      "id": "VXW2mgfb1yjX",
      "execution_count": null,
      "outputs": []
    },
    {
      "cell_type": "markdown",
      "source": [
        "Model 3"
      ],
      "metadata": {
        "id": "1FzZc6idlKL5"
      },
      "id": "1FzZc6idlKL5"
    },
    {
      "cell_type": "markdown",
      "source": [
        "* LeakyReLU activation with adamax optimizer"
      ],
      "metadata": {
        "id": "uVL0qHc_C5C_"
      },
      "id": "uVL0qHc_C5C_"
    },
    {
      "cell_type": "code",
      "source": [
        "# changing the neurons to 50 and activation to LeakyReLU, checking the model.\n",
        "model=Sequential()\n",
        "model.add(Dense(units=50,kernel_initializer='uniform',activation='LeakyReLU',input_dim=30)) # input layer\n",
        "model.add(Dense(units=50,kernel_initializer='uniform',activation='LeakyReLU'))  # hidden layer\n",
        "\n",
        "model.add(Dense(units=1,kernel_initializer='uniform',activation='sigmoid'))  # output layer"
      ],
      "metadata": {
        "id": "sjOuQOPi1yhT"
      },
      "id": "sjOuQOPi1yhT",
      "execution_count": 39,
      "outputs": []
    },
    {
      "cell_type": "code",
      "source": [
        "model.compile(optimizer='adamax',loss='binary_crossentropy',metrics='accuracy')"
      ],
      "metadata": {
        "id": "68QjFbk71yfC"
      },
      "id": "68QjFbk71yfC",
      "execution_count": 40,
      "outputs": []
    },
    {
      "cell_type": "code",
      "source": [
        "model.fit(X_train,y_train,epochs=120,batch_size=90,verbose=0)"
      ],
      "metadata": {
        "colab": {
          "base_uri": "https://localhost:8080/"
        },
        "id": "JGtnvaE01ycn",
        "outputId": "69e66a63-4e98-4bde-a655-2321e776ba2b"
      },
      "id": "JGtnvaE01ycn",
      "execution_count": 41,
      "outputs": [
        {
          "output_type": "execute_result",
          "data": {
            "text/plain": [
              "<keras.callbacks.History at 0x7f5e9d4de550>"
            ]
          },
          "metadata": {},
          "execution_count": 41
        }
      ]
    },
    {
      "cell_type": "code",
      "source": [
        "loss,accuracy=model.evaluate(X_train, y_train, batch_size=30)"
      ],
      "metadata": {
        "colab": {
          "base_uri": "https://localhost:8080/"
        },
        "id": "rxPM5sre1yaF",
        "outputId": "98a758d3-5aa0-40b7-e4bf-7be805601330"
      },
      "id": "rxPM5sre1yaF",
      "execution_count": 42,
      "outputs": [
        {
          "output_type": "stream",
          "name": "stdout",
          "text": [
            "6646/6646 [==============================] - 9s 1ms/step - loss: 0.0028 - accuracy: 0.9995\n"
          ]
        }
      ]
    },
    {
      "cell_type": "code",
      "source": [
        "print(\"Loss: {:.4f}\".format(loss))\n",
        "print(\"Acc : {:.4f}\".format(accuracy))"
      ],
      "metadata": {
        "colab": {
          "base_uri": "https://localhost:8080/"
        },
        "id": "qXoGVeG51yWU",
        "outputId": "062c2dc6-50de-42af-afcd-cb512fde5df5"
      },
      "id": "qXoGVeG51yWU",
      "execution_count": 43,
      "outputs": [
        {
          "output_type": "stream",
          "name": "stdout",
          "text": [
            "Loss: 0.002846894320100546\n",
            "Acc 0.9994683265686035\n"
          ]
        }
      ]
    },
    {
      "cell_type": "code",
      "source": [
        "# the prediction here is we are getting loss in continues.\n",
        "y_pred=model.predict(X_test)\n",
        "y_pred = y_pred>0.4  # if we dont take predicted values greater than 0 it encounters to error."
      ],
      "metadata": {
        "id": "auty1rcf1yRg"
      },
      "id": "auty1rcf1yRg",
      "execution_count": 44,
      "outputs": []
    },
    {
      "cell_type": "code",
      "source": [
        "from sklearn.metrics import confusion_matrix\n",
        "cm = confusion_matrix (y_test, y_pred)"
      ],
      "metadata": {
        "id": "cBcjUjCK1yO-"
      },
      "id": "cBcjUjCK1yO-",
      "execution_count": 45,
      "outputs": []
    },
    {
      "cell_type": "code",
      "source": [
        "sns.heatmap(pd.DataFrame(cm), annot = True, cmap = 'coolwarm')"
      ],
      "metadata": {
        "colab": {
          "base_uri": "https://localhost:8080/",
          "height": 282
        },
        "id": "EbpRBfSk1yMn",
        "outputId": "a840b520-b4f6-4e39-cefb-32e81e6b3a0c"
      },
      "id": "EbpRBfSk1yMn",
      "execution_count": 46,
      "outputs": [
        {
          "output_type": "execute_result",
          "data": {
            "text/plain": [
              "<matplotlib.axes._subplots.AxesSubplot at 0x7f5e9a8d42d0>"
            ]
          },
          "metadata": {},
          "execution_count": 46
        },
        {
          "output_type": "display_data",
          "data": {
            "text/plain": [
              "<Figure size 432x288 with 2 Axes>"
            ],
            "image/png": "[encoded data removed]"
          },
          "metadata": {
            "needs_background": "light"
          }
        }
      ]
    },
    {
      "cell_type": "code",
      "source": [
        "print(classification_report(y_test, y_pred))"
      ],
      "metadata": {
        "colab": {
          "base_uri": "https://localhost:8080/"
        },
        "id": "ViVVvdPN1yJy",
        "outputId": "7b3e8262-f7a3-4dd1-c5d1-c8b4966441ac"
      },
      "id": "ViVVvdPN1yJy",
      "execution_count": 47,
      "outputs": [
        {
          "output_type": "stream",
          "name": "stdout",
          "text": [
            "              precision    recall  f1-score   support\n",
            "\n",
            "           0       1.00      1.00      1.00     85296\n",
            "           1       0.86      0.77      0.81       147\n",
            "\n",
            "    accuracy                           1.00     85443\n",
            "   macro avg       0.93      0.88      0.91     85443\n",
            "weighted avg       1.00      1.00      1.00     85443\n",
            "\n"
          ]
        }
      ]
    },
    {
      "cell_type": "code",
      "source": [
        ""
      ],
      "metadata": {
        "id": "vPE09sSAGSMA"
      },
      "id": "vPE09sSAGSMA",
      "execution_count": null,
      "outputs": []
    },
    {
      "cell_type": "markdown",
      "source": [
        "Model 4"
      ],
      "metadata": {
        "id": "Vtb-WJaRlNl1"
      },
      "id": "Vtb-WJaRlNl1"
    },
    {
      "cell_type": "markdown",
      "source": [
        "* ELU activation with SGD optimizer"
      ],
      "metadata": {
        "id": "6fRcZxqODCX_"
      },
      "id": "6fRcZxqODCX_"
    },
    {
      "cell_type": "code",
      "source": [
        "# Activation of these model is ELU and neurons changed to 60\n",
        "model = Sequential()\n",
        "# input layer\n",
        "model.add(Dense(units = 60, kernel_initializer= \"uniform\",activation= \"ELU\", input_dim =30))\n",
        "# hidden layer\n",
        "model.add(Dense(units= 60, kernel_initializer= \"uniform\", activation= \"ELU\"))\n",
        "\n",
        "# output layer\n",
        "model.add(Dense(units= 1, kernel_initializer=\"uniform\", activation=\"sigmoid\"))"
      ],
      "metadata": {
        "id": "NIrarX2lKJnX"
      },
      "id": "NIrarX2lKJnX",
      "execution_count": 48,
      "outputs": []
    },
    {
      "cell_type": "code",
      "source": [
        "# compiling the model with stokastic gradient descent\n",
        "model.compile(optimizer='SGD', loss='binary_crossentropy', metrics=\"accuracy\")"
      ],
      "metadata": {
        "id": "GHDR9Eb5KJjz"
      },
      "id": "GHDR9Eb5KJjz",
      "execution_count": 49,
      "outputs": []
    },
    {
      "cell_type": "code",
      "source": [
        "model.fit(X_train, y_train, epochs=150, batch_size=100, verbose=0)"
      ],
      "metadata": {
        "id": "ucOh8pEFKJhA",
        "colab": {
          "base_uri": "https://localhost:8080/"
        },
        "outputId": "cddf7fad-a424-446d-e2f6-ff7006a2c4ce"
      },
      "id": "ucOh8pEFKJhA",
      "execution_count": 50,
      "outputs": [
        {
          "output_type": "execute_result",
          "data": {
            "text/plain": [
              "<keras.callbacks.History at 0x7f5e9a8022d0>"
            ]
          },
          "metadata": {},
          "execution_count": 50
        }
      ]
    },
    {
      "cell_type": "code",
      "source": [
        "loss, accuracy = model.evaluate(X_train, y_train,  batch_size=30)"
      ],
      "metadata": {
        "id": "v55LqTNuKJeT",
        "colab": {
          "base_uri": "https://localhost:8080/"
        },
        "outputId": "3860cdb6-c8c1-450a-f2ce-a29b5c5fe3ae"
      },
      "id": "v55LqTNuKJeT",
      "execution_count": 51,
      "outputs": [
        {
          "output_type": "stream",
          "name": "stdout",
          "text": [
            "6646/6646 [==============================] - 9s 1ms/step - loss: 0.0040 - accuracy: 0.9992\n"
          ]
        }
      ]
    },
    {
      "cell_type": "code",
      "source": [
        "print(\"Loss :{:.4f}\".format(loss))\n",
        "print(\"Acc :{:.4f}\".format(accuracy))"
      ],
      "metadata": {
        "id": "zW6s5tGBKJbg",
        "colab": {
          "base_uri": "https://localhost:8080/"
        },
        "outputId": "0fb37ee0-5066-461f-d7eb-c9b6964ef5ab"
      },
      "id": "zW6s5tGBKJbg",
      "execution_count": 73,
      "outputs": [
        {
          "output_type": "stream",
          "name": "stdout",
          "text": [
            "Loss :0.0031\n",
            "Acc :0.9994\n"
          ]
        }
      ]
    },
    {
      "cell_type": "code",
      "source": [
        "y_pred = model.predict(X_test)\n",
        "y_pred = y_pred>0.4"
      ],
      "metadata": {
        "id": "_E3QZ67wKJYs"
      },
      "id": "_E3QZ67wKJYs",
      "execution_count": 53,
      "outputs": []
    },
    {
      "cell_type": "code",
      "source": [
        "cm = confusion_matrix(y_test, y_pred)"
      ],
      "metadata": {
        "id": "bIgFwJP_KJWO"
      },
      "id": "bIgFwJP_KJWO",
      "execution_count": 54,
      "outputs": []
    },
    {
      "cell_type": "code",
      "source": [
        "sns.heatmap(pd.DataFrame(cm), annot=True)"
      ],
      "metadata": {
        "id": "krWrMMFVKJTT",
        "colab": {
          "base_uri": "https://localhost:8080/",
          "height": 282
        },
        "outputId": "d4642daa-8d88-493b-d54a-da7c7a3dc48e"
      },
      "id": "krWrMMFVKJTT",
      "execution_count": 55,
      "outputs": [
        {
          "output_type": "execute_result",
          "data": {
            "text/plain": [
              "<matplotlib.axes._subplots.AxesSubplot at 0x7f5e9a5eb910>"
            ]
          },
          "metadata": {},
          "execution_count": 55
        },
        {
          "output_type": "display_data",
          "data": {
            "text/plain": [
              "<Figure size 432x288 with 2 Axes>"
            ],
            "image/png": "[encoded data removed]"
          },
          "metadata": {
            "needs_background": "light"
          }
        }
      ]
    },
    {
      "cell_type": "code",
      "source": [
        "print(classification_report(y_test, y_pred))"
      ],
      "metadata": {
        "id": "YIC2cuxfKJQ3",
        "colab": {
          "base_uri": "https://localhost:8080/"
        },
        "outputId": "5f12e349-8076-4a82-9ae0-dc1a9ea978a5"
      },
      "id": "YIC2cuxfKJQ3",
      "execution_count": 56,
      "outputs": [
        {
          "output_type": "stream",
          "name": "stdout",
          "text": [
            "              precision    recall  f1-score   support\n",
            "\n",
            "           0       1.00      1.00      1.00     85296\n",
            "           1       0.87      0.61      0.72       147\n",
            "\n",
            "    accuracy                           1.00     85443\n",
            "   macro avg       0.93      0.81      0.86     85443\n",
            "weighted avg       1.00      1.00      1.00     85443\n",
            "\n"
          ]
        }
      ]
    },
    {
      "cell_type": "code",
      "source": [
        ""
      ],
      "metadata": {
        "id": "8qAy4zIIKJOg"
      },
      "id": "8qAy4zIIKJOg",
      "execution_count": null,
      "outputs": []
    },
    {
      "cell_type": "markdown",
      "source": [
        "Model 5"
      ],
      "metadata": {
        "id": "kUoim_PKllVF"
      },
      "id": "kUoim_PKllVF"
    },
    {
      "cell_type": "markdown",
      "source": [
        "* Softmax activation with Nadam optimizer."
      ],
      "metadata": {
        "id": "bWXIx6ZwA5Ly"
      },
      "id": "bWXIx6ZwA5Ly"
    },
    {
      "cell_type": "code",
      "source": [
        "# Activation of these model is Softmax and neurons changed to 60\n",
        "model = Sequential()\n",
        "# input layer\n",
        "model.add(Dense(units = 80, kernel_initializer= \"uniform\",activation= \"softmax\", input_dim =30))\n",
        "# hidden layer\n",
        "model.add(Dense(units= 80, kernel_initializer= \"uniform\", activation= \"softmax\"))\n",
        "\n",
        "# output layer\n",
        "model.add(Dense(units= 1, kernel_initializer=\"uniform\", activation=\"sigmoid\"))"
      ],
      "metadata": {
        "id": "CwGyFjWzKJMA"
      },
      "id": "CwGyFjWzKJMA",
      "execution_count": 57,
      "outputs": []
    },
    {
      "cell_type": "code",
      "source": [
        "# compiling the model with Nadam\n",
        "model.compile(optimizer='Nadam', loss='binary_crossentropy', metrics=\"accuracy\")"
      ],
      "metadata": {
        "id": "POlkw94XKJJc"
      },
      "id": "POlkw94XKJJc",
      "execution_count": 58,
      "outputs": []
    },
    {
      "cell_type": "code",
      "source": [
        "model.fit(X_train, y_train, epochs=100, batch_size=50, verbose=0)"
      ],
      "metadata": {
        "id": "jAsUi9a_KJGr",
        "colab": {
          "base_uri": "https://localhost:8080/"
        },
        "outputId": "43aab7f2-91bc-47ef-cf6d-520ca5f62d52"
      },
      "id": "jAsUi9a_KJGr",
      "execution_count": 59,
      "outputs": [
        {
          "output_type": "execute_result",
          "data": {
            "text/plain": [
              "<keras.callbacks.History at 0x7f5e9a63ca50>"
            ]
          },
          "metadata": {},
          "execution_count": 59
        }
      ]
    },
    {
      "cell_type": "code",
      "source": [
        "loss, accuracy = model.evaluate(X_train, y_train,  batch_size=30)"
      ],
      "metadata": {
        "id": "XEX7maGWKJEM",
        "colab": {
          "base_uri": "https://localhost:8080/"
        },
        "outputId": "70336de1-79ef-4933-e592-ca3cce08ed57"
      },
      "id": "XEX7maGWKJEM",
      "execution_count": 60,
      "outputs": [
        {
          "output_type": "stream",
          "name": "stdout",
          "text": [
            "6646/6646 [==============================] - 9s 1ms/step - loss: 0.0031 - accuracy: 0.9994\n"
          ]
        }
      ]
    },
    {
      "cell_type": "code",
      "source": [
        "print(\"Loss : {:.4f}\".format(loss))\n",
        "print(\"Acc :{:.4f}\".format(accuracy))"
      ],
      "metadata": {
        "id": "Ap4xWtpOKJBY",
        "colab": {
          "base_uri": "https://localhost:8080/"
        },
        "outputId": "2422fbdb-0108-42ae-eb3d-7628b087a108"
      },
      "id": "Ap4xWtpOKJBY",
      "execution_count": 74,
      "outputs": [
        {
          "output_type": "stream",
          "name": "stdout",
          "text": [
            "Loss : 0.0031\n",
            "Acc :0.9994\n"
          ]
        }
      ]
    },
    {
      "cell_type": "code",
      "source": [
        "y_pred = model.predict(X_test)\n",
        "y_pred = y_pred>0.4"
      ],
      "metadata": {
        "id": "wnNif-_iKI9d"
      },
      "id": "wnNif-_iKI9d",
      "execution_count": 62,
      "outputs": []
    },
    {
      "cell_type": "code",
      "source": [
        "cm = confusion_matrix(y_test, y_pred)"
      ],
      "metadata": {
        "id": "k7RlU6goKI45"
      },
      "id": "k7RlU6goKI45",
      "execution_count": 63,
      "outputs": []
    },
    {
      "cell_type": "code",
      "source": [
        "sns.heatmap(pd.DataFrame(cm), annot=True)"
      ],
      "metadata": {
        "id": "Gdca27OcKI0C",
        "colab": {
          "base_uri": "https://localhost:8080/",
          "height": 282
        },
        "outputId": "9e978567-a419-4540-ab9a-9649ff11de08"
      },
      "id": "Gdca27OcKI0C",
      "execution_count": 64,
      "outputs": [
        {
          "output_type": "execute_result",
          "data": {
            "text/plain": [
              "<matplotlib.axes._subplots.AxesSubplot at 0x7f5e99414a50>"
            ]
          },
          "metadata": {},
          "execution_count": 64
        },
        {
          "output_type": "display_data",
          "data": {
            "text/plain": [
              "<Figure size 432x288 with 2 Axes>"
            ],
            "image/png": "[encoded data removed]"
          },
          "metadata": {
            "needs_background": "light"
          }
        }
      ]
    },
    {
      "cell_type": "code",
      "source": [
        "print(classification_report(y_test, y_pred))"
      ],
      "metadata": {
        "id": "iY0upOPIKIwb",
        "colab": {
          "base_uri": "https://localhost:8080/"
        },
        "outputId": "3630ec04-e92b-46d5-9019-7bc46ee4fe68"
      },
      "id": "iY0upOPIKIwb",
      "execution_count": 65,
      "outputs": [
        {
          "output_type": "stream",
          "name": "stdout",
          "text": [
            "              precision    recall  f1-score   support\n",
            "\n",
            "           0       1.00      1.00      1.00     85296\n",
            "           1       0.88      0.72      0.79       147\n",
            "\n",
            "    accuracy                           1.00     85443\n",
            "   macro avg       0.94      0.86      0.90     85443\n",
            "weighted avg       1.00      1.00      1.00     85443\n",
            "\n"
          ]
        }
      ]
    },
    {
      "cell_type": "code",
      "source": [
        ""
      ],
      "metadata": {
        "id": "8ZQ7PwlPKIrB"
      },
      "id": "8ZQ7PwlPKIrB",
      "execution_count": null,
      "outputs": []
    },
    {
      "cell_type": "code",
      "source": [
        ""
      ],
      "metadata": {
        "id": "lx_DAKQ4KIkz"
      },
      "id": "lx_DAKQ4KIkz",
      "execution_count": null,
      "outputs": []
    },
    {
      "cell_type": "code",
      "source": [
        ""
      ],
      "metadata": {
        "id": "lni-HIBMKIg2"
      },
      "id": "lni-HIBMKIg2",
      "execution_count": null,
      "outputs": []
    }
  ],
  "metadata": {
    "kernelspec": {
      "display_name": "Python 3",
      "language": "python",
      "name": "python3"
    },
    "language_info": {
      "codemirror_mode": {
        "name": "ipython",
        "version": 3
      },
      "file_extension": ".py",
      "mimetype": "text/x-python",
      "name": "python",
      "nbconvert_exporter": "python",
      "pygments_lexer": "ipython3",
      "version": "3.8.8"
    },
    "colab": {
      "name": "Creditcard ANN classification.ipynb",
      "provenance": [],
      "collapsed_sections": [],
      "include_colab_link": true
    },
    "accelerator": "TPU"
  },
  "nbformat": 4,
  "nbformat_minor": 5
}